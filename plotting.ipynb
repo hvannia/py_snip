{
 "cells": [
  {
   "cell_type": "code",
   "execution_count": 1,
   "metadata": {},
   "outputs": [],
   "source": [
    "import numpy as np\n",
    "import matplotlib.pyplot as plt"
   ]
  },
  {
   "cell_type": "code",
   "execution_count": 7,
   "metadata": {},
   "outputs": [],
   "source": [
    "case1=np.random.rand(1000)*1000 \n",
    "case2=np.random.rand(1000)*800\n",
    "case3=np.random.rand(1000)*1200"
   ]
  },
  {
   "cell_type": "code",
   "execution_count": 9,
   "metadata": {},
   "outputs": [
    {
     "data": {
      "text/plain": [
       "array([ 513.56856779, 1012.71285767,  770.53886557, 1100.5514263 ,\n",
       "        861.01395821,  991.52580786, 1035.05593186,  529.21224708,\n",
       "       1182.06887958,  972.97215077])"
      ]
     },
     "execution_count": 9,
     "metadata": {},
     "output_type": "execute_result"
    }
   ],
   "source": [
    "case3[:10]\n"
   ]
  },
  {
   "cell_type": "code",
   "execution_count": 11,
   "metadata": {},
   "outputs": [],
   "source": [
    "pcase1=np.percentile(case1, [5, 25,50,75,95] )\n",
    "pcase2=np.percentile(case2, [5, 25,50,75,95] )\n",
    "pcase3=np.percentile(case3, [5, 25,50,75,95] )"
   ]
  },
  {
   "cell_type": "code",
   "execution_count": 12,
   "metadata": {},
   "outputs": [
    {
     "data": {
      "text/plain": [
       "array([ 45.31018378, 230.5850445 , 469.5727499 , 720.16740665,\n",
       "       939.75760065])"
      ]
     },
     "execution_count": 12,
     "metadata": {},
     "output_type": "execute_result"
    }
   ],
   "source": [
    "pcase1"
   ]
  },
  {
   "cell_type": "code",
   "execution_count": 13,
   "metadata": {},
   "outputs": [
    {
     "data": {
      "text/plain": [
       "{'whiskers': [<matplotlib.lines.Line2D at 0x7ff1a159ad50>,\n",
       "  <matplotlib.lines.Line2D at 0x7ff1a15a9ed0>],\n",
       " 'caps': [<matplotlib.lines.Line2D at 0x7ff1a15bc410>,\n",
       "  <matplotlib.lines.Line2D at 0x7ff1a15bc910>],\n",
       " 'boxes': [<matplotlib.lines.Line2D at 0x7ff1a159ad10>],\n",
       " 'medians': [<matplotlib.lines.Line2D at 0x7ff1a15bce50>],\n",
       " 'fliers': [<matplotlib.lines.Line2D at 0x7ff1a136b2d0>],\n",
       " 'means': []}"
      ]
     },
     "execution_count": 13,
     "metadata": {},
     "output_type": "execute_result"
    },
    {
     "data": {
      "image/png": "[encoded data removed]",
      "text/plain": [
       "<Figure size 432x288 with 1 Axes>"
      ]
     },
     "metadata": {
      "needs_background": "light"
     },
     "output_type": "display_data"
    }
   ],
   "source": [
    "fig1, ax1 = plt.subplots()\n",
    "ax1.set_title('Basic Plot')\n",
    "ax1.boxplot(case1)\n"
   ]
  },
  {
   "cell_type": "code",
   "execution_count": 16,
   "metadata": {},
   "outputs": [
    {
     "data": {
      "text/plain": [
       "{'whiskers': [<matplotlib.lines.Line2D at 0x7ff1a1a3f390>,\n",
       "  <matplotlib.lines.Line2D at 0x7ff1a1ac3110>,\n",
       "  <matplotlib.lines.Line2D at 0x7ff1a1ac3b90>,\n",
       "  <matplotlib.lines.Line2D at 0x7ff1a1ac9b10>,\n",
       "  <matplotlib.lines.Line2D at 0x7ff1a1ad1a50>,\n",
       "  <matplotlib.lines.Line2D at 0x7ff1a1ae2f50>],\n",
       " 'caps': [<matplotlib.lines.Line2D at 0x7ff1a1ac3690>,\n",
       "  <matplotlib.lines.Line2D at 0x7ff1a1a14950>,\n",
       "  <matplotlib.lines.Line2D at 0x7ff1a1ad1fd0>,\n",
       "  <matplotlib.lines.Line2D at 0x7ff1a1ad1590>,\n",
       "  <matplotlib.lines.Line2D at 0x7ff1a1ae2850>,\n",
       "  <matplotlib.lines.Line2D at 0x7ff1a1aeb9d0>],\n",
       " 'boxes': [<matplotlib.lines.Line2D at 0x7ff1a1abc590>,\n",
       "  <matplotlib.lines.Line2D at 0x7ff1a1ad1050>,\n",
       "  <matplotlib.lines.Line2D at 0x7ff1a1ae2390>],\n",
       " 'medians': [<matplotlib.lines.Line2D at 0x7ff1a1ac90d0>,\n",
       "  <matplotlib.lines.Line2D at 0x7ff1a1ad9450>,\n",
       "  <matplotlib.lines.Line2D at 0x7ff1a1aebe10>],\n",
       " 'fliers': [<matplotlib.lines.Line2D at 0x7ff1a1ac95d0>,\n",
       "  <matplotlib.lines.Line2D at 0x7ff1a1ad9950>,\n",
       "  <matplotlib.lines.Line2D at 0x7ff1a1aeb810>],\n",
       " 'means': []}"
      ]
     },
     "execution_count": 16,
     "metadata": {},
     "output_type": "execute_result"
    },
    {
     "data": {
      "image/png": "[encoded data removed]",
      "text/plain": [
       "<Figure size 432x288 with 1 Axes>"
      ]
     },
     "metadata": {
      "needs_background": "light"
     },
     "output_type": "display_data"
    }
   ],
   "source": [
    "fig1, ax1 = plt.subplots()\n",
    "ax1.set_title('Basic Plot')\n",
    "ax1.boxplot([case1,case2,case3])\n"
   ]
  },
  {
   "cell_type": "code",
   "execution_count": null,
   "metadata": {},
   "outputs": [],
   "source": []
  }
 ],
 "metadata": {
  "kernelspec": {
   "display_name": "Python 3",
   "language": "python",
   "name": "python3"
  },
  "language_info": {
   "codemirror_mode": {
    "name": "ipython",
    "version": 3
   },
   "file_extension": ".py",
   "mimetype": "text/x-python",
   "name": "python",
   "nbconvert_exporter": "python",
   "pygments_lexer": "ipython3",
   "version": "3.7.4"
  }
 },
 "nbformat": 4,
 "nbformat_minor": 2
}
